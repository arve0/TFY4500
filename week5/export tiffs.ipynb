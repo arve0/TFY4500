{
 "metadata": {
  "name": "",
  "signature": "sha256:744956c35b76284775da7dcad37243f14e84b85bb5ea36ed21d9cbe82b2a6d61"
 },
 "nbformat": 3,
 "nbformat_minor": 0,
 "worksheets": [
  {
   "cells": [
    {
     "cell_type": "code",
     "collapsed": false,
     "input": [
      "%run ../common.ipynb"
     ],
     "language": "python",
     "metadata": {},
     "outputs": [
      {
       "output_type": "stream",
       "stream": "stdout",
       "text": [
        "Populating the interactive namespace from numpy and matplotlib\n"
       ]
      }
     ],
     "prompt_number": 1
    },
    {
     "cell_type": "code",
     "collapsed": false,
     "input": [
      "images = imread('tilescan.tif')"
     ],
     "language": "python",
     "metadata": {},
     "outputs": [],
     "prompt_number": 2
    },
    {
     "cell_type": "code",
     "collapsed": false,
     "input": [
      "len(images)"
     ],
     "language": "python",
     "metadata": {},
     "outputs": [
      {
       "metadata": {},
       "output_type": "pyout",
       "prompt_number": 4,
       "text": [
        "273"
       ]
      }
     ],
     "prompt_number": 4
    },
    {
     "cell_type": "code",
     "collapsed": false,
     "input": [
      "imsave?"
     ],
     "language": "python",
     "metadata": {},
     "outputs": [],
     "prompt_number": 9
    },
    {
     "cell_type": "raw",
     "metadata": {},
     "source": [
      "Parameters\n",
      "----------\n",
      "filename : str\n",
      "    Name of file to write.\n",
      "data : array_like\n",
      "    Input image. The last dimensions are assumed to be image depth,\n",
      "    height, width, and samples.\n",
      "kwargs : dict\n",
      "    Parameters 'byteorder', 'bigtiff', and 'software' are passed to\n",
      "    the TiffWriter class.\n",
      "    Parameters 'photometric', 'planarconfig', 'resolution',\n",
      "    'description', 'compress', 'volume', and 'extratags' are passed to\n",
      "    the TiffWriter.save function.\n",
      "Examples\n",
      "--------\n",
      ">>> data = numpy.random.rand(2, 5, 3, 301, 219)\n",
      ">>> description = u'{\"shape\": %s}' % str(list(data.shape))\n",
      ">>> imsave('temp.tif', data, compress=6,\n",
      "...        extratags=[(270, 's', 0, description, True)])"
     ]
    },
    {
     "cell_type": "code",
     "collapsed": false,
     "input": [
      "for i, img in enumerate(images):\n",
      "    if i < 10:\n",
      "        j = '00' + str(i)\n",
      "    elif i > 10 and i < 100:\n",
      "        j = '0' + str(i)\n",
      "    else:\n",
      "        j = str(i)\n",
      "    imsave('images/' + j + '.tif', img)"
     ],
     "language": "python",
     "metadata": {},
     "outputs": [],
     "prompt_number": 8
    }
   ],
   "metadata": {}
  }
 ]
}