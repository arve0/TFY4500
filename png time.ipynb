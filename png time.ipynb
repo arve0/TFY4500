{
 "metadata": {
  "name": "",
  "signature": "sha256:0d826bcf01869bb74896e96e77a8abb61fb1f947ab72b738187949c7b37ce674"
 },
 "nbformat": 3,
 "nbformat_minor": 0,
 "worksheets": [
  {
   "cells": [
    {
     "cell_type": "code",
     "collapsed": false,
     "input": [
      "from imageio import imsave as ii_save\n",
      "from scipy.misc import imsave as sm_save\n",
      "from matplotlib.pylab import imsave as mp_save\n",
      "from skimage.io import imsave as ski_save\n",
      "from scipy.misc import imread\n",
      "img = imread('mp.png')"
     ],
     "language": "python",
     "metadata": {},
     "outputs": [],
     "prompt_number": 5
    },
    {
     "cell_type": "code",
     "collapsed": false,
     "input": [
      "print('imageio')\n",
      "%time ii_save('tmp.png', img)\n",
      "!du tmp.png && rm tmp.png\n",
      "\n",
      "print('scipy')\n",
      "%time sm_save('tmp.png', img)\n",
      "!du tmp.png && rm tmp.png\n",
      "\n",
      "print('scikit-image')\n",
      "%time ski_save('tmp.png', img)\n",
      "!du tmp.png && rm tmp.png\n",
      "\n",
      "print('matplotlib')\n",
      "%time mp_save('tmp.png', img)\n",
      "!du tmp.png && rm tmp.png"
     ],
     "language": "python",
     "metadata": {},
     "outputs": [
      {
       "output_type": "stream",
       "stream": "stdout",
       "text": [
        "imageio\n",
        "CPU times: user 6.75 s, sys: 24.5 ms, total: 6.78 s"
       ]
      },
      {
       "output_type": "stream",
       "stream": "stdout",
       "text": [
        "\n",
        "Wall time: 6.96 s\n",
        "3104\ttmp.png\r\n"
       ]
      },
      {
       "output_type": "stream",
       "stream": "stdout",
       "text": [
        "scipy\n",
        "CPU times: user 1.9 s, sys: 19.8 ms, total: 1.92 s"
       ]
      },
      {
       "output_type": "stream",
       "stream": "stdout",
       "text": [
        "\n",
        "Wall time: 1.94 s\n",
        "3280\ttmp.png\r\n"
       ]
      },
      {
       "output_type": "stream",
       "stream": "stdout",
       "text": [
        "scikit-image\n",
        "CPU times: user 1.9 s, sys: 11.2 ms, total: 1.91 s"
       ]
      },
      {
       "output_type": "stream",
       "stream": "stdout",
       "text": [
        "\n",
        "Wall time: 1.91 s\n",
        "3280\ttmp.png\r\n"
       ]
      },
      {
       "output_type": "stream",
       "stream": "stdout",
       "text": [
        "matplotlib\n",
        "CPU times: user 4.98 s, sys: 111 ms, total: 5.09 s"
       ]
      },
      {
       "output_type": "stream",
       "stream": "stdout",
       "text": [
        "\n",
        "Wall time: 5.25 s\n",
        "6472\ttmp.png\r\n"
       ]
      }
     ],
     "prompt_number": 6
    }
   ],
   "metadata": {}
  }
 ]
}