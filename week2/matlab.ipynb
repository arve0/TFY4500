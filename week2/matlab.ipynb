{
 "metadata": {
  "name": "",
  "signature": "sha256:05e2c41d146c774d4e7a54aa9d0a6841ed00428c123d169c76363e5568424d70"
 },
 "nbformat": 3,
 "nbformat_minor": 0,
 "worksheets": [
  {
   "cells": [
    {
     "cell_type": "code",
     "collapsed": false,
     "input": [
      "from pymatbridge import Matlab\n",
      "mlab = Matlab('/Applications/MATLAB_R2014b.app/bin/matlab')\n",
      "mlab.start()\n",
      "%load_ext pymatbridge"
     ],
     "language": "python",
     "metadata": {},
     "outputs": [
      {
       "output_type": "stream",
       "stream": "stdout",
       "text": [
        "Starting MATLAB on ZMQ socket ipc:///tmp/pymatbridge\n",
        "Send 'exit' command to kill the server\n",
        "/Applications/MATLAB_R2014b.app/bin/matlab  -nodesktop -nodisplay -r \"warning('off','all');addpath(genpath('/Users/arve/.virtualenvs/brew/lib/python2.7/site-packages/pymatbridge/matlab'));warning('on', 'all');matlabserver('ipc:///tmp/pymatbridge');exit\"\n",
        ".MATLAB started and connected!"
       ]
      },
      {
       "output_type": "stream",
       "stream": "stdout",
       "text": [
        "\n",
        "Starting MATLAB on ZMQ socket ipc:///tmp/pymatbridge\n",
        "Send 'exit' command to kill the server\n",
        "matlab  -nodesktop -nodisplay -r \"warning('off','all');addpath(genpath('/Users/arve/.virtualenvs/brew/lib/python2.7/site-packages/pymatbridge/matlab'));warning('on', 'all');matlabserver('ipc:///tmp/pymatbridge');exit\"\n",
        ".MATLAB started and connected!"
       ]
      },
      {
       "output_type": "stream",
       "stream": "stdout",
       "text": [
        "\n"
       ]
      }
     ],
     "prompt_number": 1
    },
    {
     "cell_type": "code",
     "collapsed": false,
     "input": [
      "%%matlab\n",
      "a = 1"
     ],
     "language": "python",
     "metadata": {},
     "outputs": [
      {
       "metadata": {},
       "output_type": "display_data",
       "text": [
        "\n",
        "a =\n",
        "\n",
        "     1\n",
        "\n"
       ]
      }
     ],
     "prompt_number": 2
    }
   ],
   "metadata": {}
  }
 ]
}