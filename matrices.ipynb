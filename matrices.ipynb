{
 "cells": [
  {
   "cell_type": "markdown",
   "metadata": {},
   "source": [
    "# matrices in python"
   ]
  },
  {
   "cell_type": "code",
   "execution_count": 9,
   "metadata": {
    "collapsed": true
   },
   "outputs": [],
   "source": [
    "import numpy as np\n",
    "import scipy as sp\n",
    "import scipy.linalg as linalg"
   ]
  },
  {
   "cell_type": "markdown",
   "metadata": {},
   "source": [
    "## ndarray vs matrix\n",
    "ndarray is [recommended](http://docs.scipy.org/doc/scipy-0.14.0/reference/tutorial/linalg.html#numpy-matrix-vs-2d-numpy-ndarray)\n",
    "\n",
    "\n",
    "### creating"
   ]
  },
  {
   "cell_type": "code",
   "execution_count": 16,
   "metadata": {
    "collapsed": false
   },
   "outputs": [
    {
     "data": {
      "text/plain": [
       "(matrix([[1, 2, 3],\n",
       "         [3, 1, 2],\n",
       "         [4, 5, 7]]), array([[1, 2, 3],\n",
       "        [3, 1, 2],\n",
       "        [4, 5, 7]]))"
      ]
     },
     "execution_count": 16,
     "metadata": {},
     "output_type": "execute_result"
    }
   ],
   "source": [
    "A = sp.matrix([[1,2,3],[3,1,2],[4,5,7]])\n",
    "a = np.array([[1,2,3],[3,1,2],[4,5,7]])\n",
    "A, a"
   ]
  },
  {
   "cell_type": "markdown",
   "metadata": {},
   "source": [
    "### transpose"
   ]
  },
  {
   "cell_type": "code",
   "execution_count": 13,
   "metadata": {
    "collapsed": false
   },
   "outputs": [
    {
     "data": {
      "text/plain": [
       "(matrix([[1, 3, 4],\n",
       "         [2, 1, 5],\n",
       "         [3, 2, 7]]), array([[1, 3, 4],\n",
       "        [2, 1, 5],\n",
       "        [3, 2, 7]]))"
      ]
     },
     "execution_count": 13,
     "metadata": {},
     "output_type": "execute_result"
    }
   ],
   "source": [
    "A.T, a.T"
   ]
  },
  {
   "cell_type": "markdown",
   "metadata": {},
   "source": [
    "### inverse"
   ]
  },
  {
   "cell_type": "code",
   "execution_count": 14,
   "metadata": {
    "collapsed": false
   },
   "outputs": [
    {
     "data": {
      "text/plain": [
       "(matrix([[-0.75,  0.25,  0.25],\n",
       "         [-3.25, -1.25,  1.75],\n",
       "         [ 2.75,  0.75, -1.25]]), array([[-0.75,  0.25,  0.25],\n",
       "        [-3.25, -1.25,  1.75],\n",
       "        [ 2.75,  0.75, -1.25]]))"
      ]
     },
     "execution_count": 14,
     "metadata": {},
     "output_type": "execute_result"
    }
   ],
   "source": [
    "A.I, linalg.inv(a)"
   ]
  },
  {
   "cell_type": "markdown",
   "metadata": {},
   "source": [
    "### matrix multiplication"
   ]
  },
  {
   "cell_type": "code",
   "execution_count": 24,
   "metadata": {
    "collapsed": false
   },
   "outputs": [
    {
     "data": {
      "text/plain": [
       "(matrix([[15],\n",
       "         [14],\n",
       "         [39]]), array([15, 14, 39]))"
      ]
     },
     "execution_count": 24,
     "metadata": {},
     "output_type": "execute_result"
    }
   ],
   "source": [
    "B = np.matrix([2,2,3])\n",
    "b = np.array([2,2,3])\n",
    "A*B.T, a.dot(b)"
   ]
  },
  {
   "cell_type": "markdown",
   "metadata": {},
   "source": [
    "### as vertical vector"
   ]
  },
  {
   "cell_type": "code",
   "execution_count": 40,
   "metadata": {
    "collapsed": false
   },
   "outputs": [
    {
     "data": {
      "text/plain": [
       "(matrix([[2],\n",
       "         [2],\n",
       "         [3]]), array([[2],\n",
       "        [2],\n",
       "        [3]]))"
      ]
     },
     "execution_count": 40,
     "metadata": {},
     "output_type": "execute_result"
    }
   ],
   "source": [
    "B.T, b[:,np.newaxis]"
   ]
  },
  {
   "cell_type": "markdown",
   "metadata": {},
   "source": [
    "### elementwise multiplication"
   ]
  },
  {
   "cell_type": "code",
   "execution_count": 27,
   "metadata": {
    "collapsed": false
   },
   "outputs": [
    {
     "data": {
      "text/plain": [
       "(matrix([[ 2,  4,  9],\n",
       "         [ 6,  2,  6],\n",
       "         [ 8, 10, 21]]), array([[ 2,  4,  9],\n",
       "        [ 6,  2,  6],\n",
       "        [ 8, 10, 21]]))"
      ]
     },
     "execution_count": 27,
     "metadata": {},
     "output_type": "execute_result"
    }
   ],
   "source": [
    "np.multiply(A,B), a*b"
   ]
  },
  {
   "cell_type": "code",
   "execution_count": 33,
   "metadata": {
    "collapsed": false
   },
   "outputs": [
    {
     "data": {
      "text/plain": [
       "(matrix([[ 2,  4,  6],\n",
       "         [ 6,  2,  4],\n",
       "         [12, 15, 21]]), array([[ 2,  4,  6],\n",
       "        [ 6,  2,  4],\n",
       "        [12, 15, 21]]))"
      ]
     },
     "execution_count": 33,
     "metadata": {},
     "output_type": "execute_result"
    }
   ],
   "source": [
    "np.multiply(A,B.T), a*b[:,np.newaxis]"
   ]
  },
  {
   "cell_type": "markdown",
   "metadata": {},
   "source": [
    "## solving linear system\n",
    "using inverse matrix is [not recommended](http://www.johndcook.com/blog/2010/01/19/dont-invert-that-matrix/)\n",
    "\n",
    "### slow"
   ]
  },
  {
   "cell_type": "code",
   "execution_count": 54,
   "metadata": {
    "collapsed": false
   },
   "outputs": [
    {
     "name": "stdout",
     "output_type": "stream",
     "text": [
      "1000 loops, best of 3: 698 \u00b5s per loop\n"
     ]
    }
   ],
   "source": [
    "a = np.random.randint(low=-10,high=10,size=(100,100))\n",
    "b = np.random.randint(low=-10,high=10,size=(100))\n",
    "%timeit linalg.inv(a).dot(b)"
   ]
  },
  {
   "cell_type": "markdown",
   "metadata": {},
   "source": [
    "### fast"
   ]
  },
  {
   "cell_type": "code",
   "execution_count": 55,
   "metadata": {
    "collapsed": false
   },
   "outputs": [
    {
     "name": "stdout",
     "output_type": "stream",
     "text": [
      "1000 loops, best of 3: 324 \u00b5s per loop\n"
     ]
    }
   ],
   "source": [
    "%timeit linalg.solve(a,b)"
   ]
  },
  {
   "cell_type": "code",
   "execution_count": 77,
   "metadata": {
    "collapsed": false
   },
   "outputs": [
    {
     "data": {
      "text/plain": [
       "(array([[8, 2],\n",
       "        [0, 6]]), array([8, 8]))"
      ]
     },
     "execution_count": 77,
     "metadata": {},
     "output_type": "execute_result"
    }
   ],
   "source": [
    "a = np.random.randint(low=0, high=10, size=(2,2))\n",
    "b = np.random.randint(low=0, high=10, size=2)\n",
    "a,b"
   ]
  },
  {
   "cell_type": "code",
   "execution_count": 78,
   "metadata": {
    "collapsed": false
   },
   "outputs": [
    {
     "data": {
      "text/plain": [
       "array([ 0.66666667,  1.33333333])"
      ]
     },
     "execution_count": 78,
     "metadata": {},
     "output_type": "execute_result"
    }
   ],
   "source": [
    "linalg.solve(a,b)"
   ]
  },
  {
   "cell_type": "markdown",
   "metadata": {},
   "source": [
    "## eigenvalues and eigenvector"
   ]
  },
  {
   "cell_type": "markdown",
   "metadata": {},
   "source": [
    "If there exists a nonzero vector $x$ such that\n",
    "\n",
    "$Ax = \\lambda x$\n",
    "\n",
    "then $\\lambda$ is called $A$'s egenvalues and $x$ is $A$'s eigenvector.\n",
    "\n",
    "** how to find $\\lambda$ and $x$: **\n",
    "\n",
    "$Ax = \\lambda Ix$ add identidy matrix\n",
    "\n",
    "$Ax - \\lambda Ix = 0$ subtract one side\n",
    "\n",
    "$(A - \\lambda I)x = 0$ factorize\n",
    "\n",
    "This have a solution when *det*$(A - \\lambda I) = 0$. In case of a 2x2 matrix this gives the equation\n",
    "\n",
    "$\\begin{vmatrix}\n",
    "\n",
    "\\end{vmatrix}"
   ]
  },
  {
   "cell_type": "code",
   "execution_count": 79,
   "metadata": {
    "collapsed": false
   },
   "outputs": [
    {
     "name": "stdout",
     "output_type": "stream",
     "text": [
      "Help on function eigh in module scipy.linalg.decomp:\n",
      "\n",
      "eigh(a, b=None, lower=True, eigvals_only=False, overwrite_a=False, overwrite_b=False, turbo=True, eigvals=None, type=1, check_finite=True)\n",
      "    Solve an ordinary or generalized eigenvalue problem for a complex\n",
      "    Hermitian or real symmetric matrix.\n",
      "    \n",
      "    Find eigenvalues w and optionally eigenvectors v of matrix `a`, where\n",
      "    `b` is positive definite::\n",
      "    \n",
      "                      a v[:,i] = w[i] b v[:,i]\n",
      "        v[i,:].conj() a v[:,i] = w[i]\n",
      "        v[i,:].conj() b v[:,i] = 1\n",
      "    \n",
      "    Parameters\n",
      "    ----------\n",
      "    a : (M, M) array_like\n",
      "        A complex Hermitian or real symmetric matrix whose eigenvalues and\n",
      "        eigenvectors will be computed.\n",
      "    b : (M, M) array_like, optional\n",
      "        A complex Hermitian or real symmetric definite positive matrix in.\n",
      "        If omitted, identity matrix is assumed.\n",
      "    lower : bool, optional\n",
      "        Whether the pertinent array data is taken from the lower or upper\n",
      "        triangle of `a`. (Default: lower)\n",
      "    eigvals_only : bool, optional\n",
      "        Whether to calculate only eigenvalues and no eigenvectors.\n",
      "        (Default: both are calculated)\n",
      "    turbo : bool, optional\n",
      "        Use divide and conquer algorithm (faster but expensive in memory,\n",
      "        only for generalized eigenvalue problem and if eigvals=None)\n",
      "    eigvals : tuple (lo, hi), optional\n",
      "        Indexes of the smallest and largest (in ascending order) eigenvalues\n",
      "        and corresponding eigenvectors to be returned: 0 <= lo <= hi <= M-1.\n",
      "        If omitted, all eigenvalues and eigenvectors are returned.\n",
      "    type : int, optional\n",
      "        Specifies the problem type to be solved:\n",
      "    \n",
      "           type = 1: a   v[:,i] = w[i] b v[:,i]\n",
      "    \n",
      "           type = 2: a b v[:,i] = w[i]   v[:,i]\n",
      "    \n",
      "           type = 3: b a v[:,i] = w[i]   v[:,i]\n",
      "    overwrite_a : bool, optional\n",
      "        Whether to overwrite data in `a` (may improve performance)\n",
      "    overwrite_b : bool, optional\n",
      "        Whether to overwrite data in `b` (may improve performance)\n",
      "    check_finite : boolean, optional\n",
      "        Whether to check that the input matrices contain only finite numbers.\n",
      "        Disabling may give a performance gain, but may result in problems\n",
      "        (crashes, non-termination) if the inputs do contain infinities or NaNs.\n",
      "    \n",
      "    Returns\n",
      "    -------\n",
      "    w : (N,) float ndarray\n",
      "        The N (1<=N<=M) selected eigenvalues, in ascending order, each\n",
      "        repeated according to its multiplicity.\n",
      "    v : (M, N) complex ndarray\n",
      "        (if eigvals_only == False)\n",
      "    \n",
      "        The normalized selected eigenvector corresponding to the\n",
      "        eigenvalue w[i] is the column v[:,i].\n",
      "    \n",
      "        Normalization:\n",
      "    \n",
      "            type 1 and 3: v.conj() a      v  = w\n",
      "    \n",
      "            type 2: inv(v).conj() a  inv(v) = w\n",
      "    \n",
      "            type = 1 or 2: v.conj() b      v  = I\n",
      "    \n",
      "            type = 3: v.conj() inv(b) v  = I\n",
      "    \n",
      "    Raises\n",
      "    ------\n",
      "    LinAlgError :\n",
      "        If eigenvalue computation does not converge,\n",
      "        an error occurred, or b matrix is not definite positive. Note that\n",
      "        if input matrices are not symmetric or hermitian, no error is reported\n",
      "        but results will be wrong.\n",
      "    \n",
      "    See Also\n",
      "    --------\n",
      "    eig : eigenvalues and right eigenvectors for non-symmetric arrays\n",
      "\n"
     ]
    }
   ],
   "source": [
    "help(linalg.eigh)"
   ]
  },
  {
   "cell_type": "code",
   "execution_count": 80,
   "metadata": {
    "collapsed": false
   },
   "outputs": [
    {
     "data": {
      "text/plain": [
       "((2,), (2, 2))"
      ]
     },
     "execution_count": 80,
     "metadata": {},
     "output_type": "execute_result"
    }
   ],
   "source": [
    "values, vector = linalg.eigh(a)\n",
    "values.shape, vector.shape"
   ]
  },
  {
   "cell_type": "code",
   "execution_count": 81,
   "metadata": {
    "collapsed": false
   },
   "outputs": [
    {
     "name": "stdout",
     "output_type": "stream",
     "text": [
      "[ 6.  8.]\n"
     ]
    }
   ],
   "source": [
    "print(values)"
   ]
  },
  {
   "cell_type": "code",
   "execution_count": 82,
   "metadata": {
    "collapsed": false
   },
   "outputs": [
    {
     "name": "stdout",
     "output_type": "stream",
     "text": [
      "[[ 0. -1.]\n",
      " [-1. -0.]]\n"
     ]
    }
   ],
   "source": [
    "print(vector)"
   ]
  }
 ],
 "metadata": {
  "kernelspec": {
   "display_name": "IPython (Python 3)",
   "name": "python3"
  },
  "language_info": {
   "codemirror_mode": {
    "name": "ipython",
    "version": 3
   },
   "file_extension": ".py",
   "mimetype": "text/x-python",
   "name": "python",
   "nbconvert_exporter": "python",
   "pygments_lexer": "ipython3",
   "version": "3.4.1"
  },
  "signature": "sha256:f0940b399ced96926bae7b56c0a980bce0d77659533918e2259aae3131a8ec18"
 },
 "nbformat": 4,
 "nbformat_minor": 0
}