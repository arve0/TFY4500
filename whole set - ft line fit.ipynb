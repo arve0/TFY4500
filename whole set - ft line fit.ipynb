{
 "metadata": {
  "name": "",
  "signature": "sha256:65fa7a4a2a3781d92008f98bcc7dce7a87ea7df8cf20c13f6797713386cc49e3"
 },
 "nbformat": 3,
 "nbformat_minor": 0,
 "worksheets": [
  {
   "cells": [
    {
     "cell_type": "heading",
     "level": 1,
     "metadata": {},
     "source": [
      "Compute angles histogram with FT line fitting in parallel"
     ]
    },
    {
     "cell_type": "markdown",
     "metadata": {},
     "source": [
      "Compute angle histogram in parallel on dataset using fourier transfor line fitting. Differ the threshold for the FT, and save the images so that we can compare."
     ]
    },
    {
     "cell_type": "code",
     "collapsed": false,
     "input": [
      "from IPython import parallel\n",
      "rc = parallel.Client()\n",
      "len(rc)"
     ],
     "language": "python",
     "metadata": {},
     "outputs": [
      {
       "metadata": {},
       "output_type": "pyout",
       "prompt_number": 1,
       "text": [
        "2"
       ]
      }
     ],
     "prompt_number": 1
    },
    {
     "cell_type": "markdown",
     "metadata": {},
     "source": [
      "IPython magic, run on all instances"
     ]
    },
    {
     "cell_type": "code",
     "collapsed": false,
     "input": [
      "%px print 'hello'\n",
      "%px !pwd"
     ],
     "language": "python",
     "metadata": {},
     "outputs": [
      {
       "output_type": "stream",
       "stream": "stdout",
       "text": [
        "[stdout:0] hello\n",
        "[stdout:1] hello\n",
        "[stdout:0] /notebooks\r\n"
       ]
      },
      {
       "output_type": "stream",
       "stream": "stdout",
       "text": [
        "[stdout:1] /notebooks\r\n"
       ]
      }
     ],
     "prompt_number": 2
    },
    {
     "cell_type": "code",
     "collapsed": false,
     "input": [
      "%px %pylab inline"
     ],
     "language": "python",
     "metadata": {},
     "outputs": [
      {
       "output_type": "stream",
       "stream": "stdout",
       "text": [
        "[stdout:0] Populating the interactive namespace from numpy and matplotlib\n",
        "[stdout:1] Populating the interactive namespace from numpy and matplotlib\n"
       ]
      }
     ],
     "prompt_number": 3
    },
    {
     "cell_type": "markdown",
     "metadata": {},
     "source": [
      "Block magic"
     ]
    },
    {
     "cell_type": "code",
     "collapsed": false,
     "input": [
      "%%px\n",
      "def angle_ft_line_fit(img, threshold=0.999, debug=False):\n",
      "    \"\"\"\n",
      "    Calculate preferred orientation in image with a line fit in FT.\n",
      "    \n",
      "    Parameters\n",
      "    ----------\n",
      "    threshold : float\n",
      "        Percentage of pixels to include in FT for calculating \n",
      "        threshold. 0.999 * 512**2 = 262 pixels\n",
      "        \n",
      "    Returns\n",
      "    -------\n",
      "    float\n",
      "        Angle\n",
      "    \"\"\"\n",
      "    from skimage.exposure import cumulative_distribution\n",
      "    from scipy.stats import linregress\n",
      "\n",
      "    # FT power spectrum\n",
      "    F = np.abs(fftshift(fft2(img)))\n",
      "    # do not calculate log(0)\n",
      "    F[F!=0], F[F==0] = log(F[F!=0]), log(F[F!=0].min())\n",
      "    # threshold\n",
      "    cdf = cumulative_distribution(F)\n",
      "    limit = np.where(cdf[0] > threshold)[0].min()\n",
      "    threshold_value = cdf[1][limit]\n",
      "    F = F > threshold_value\n",
      "    # points\n",
      "    y,x = np.where(F)\n",
      "    # cases\n",
      "    dx = abs(x.max()-x.min())\n",
      "    dy = abs(y.max()-y.min())\n",
      "    if dx==0:\n",
      "        # we have a vertical line\n",
      "        angle = 90\n",
      "        b = [0, 1]\n",
      "    # solve y=mx+c by least-squares regression\n",
      "    elif dx < dy:\n",
      "        # linregress is imprecise for dx < dy => swap x,y\n",
      "        m,c,r,pv,err = linregress(y,x)\n",
      "        b = (1/m, -c/m)\n",
      "        # calculate angle (assume line goes through center)\n",
      "        angle = (90 - arctan(b[0]) / pi * 180) % 180\n",
      "    else:\n",
      "        m,c,r,pv,err = linregress(y,x)\n",
      "        b = (m,c)\n",
      "        angle = (90 - arctan(b[0]) / pi * 180) % 180\n",
      "\n",
      "    # show image, FT and fit\n",
      "    if debug:\n",
      "        f, ax = subplots(ncols=2, figsize=(8,4))\n",
      "        ax[0].imshow(img)\n",
      "        ax[1].imshow(F)\n",
      "        # add calculated line\n",
      "        # polynomial generator\n",
      "        p = np.poly1d(b)\n",
      "        height, width = img.shape\n",
      "        if angle != 90:\n",
      "            line = ([0, width], [p(0), p(width)])\n",
      "        else:\n",
      "            line = ([width//2, width//2], [0,height])\n",
      "        ax[1].plot(*line)\n",
      "        ax[1].set_title('ang: {:3.0f} r:{:0.2} err:{:0.2}'\n",
      "                        .format(angle,r,err))\n",
      "        ax[1].set_xlim(0,width)\n",
      "        ax[1].set_ylim(height,0)\n",
      "\n",
      "    return angle\n",
      "print('angle_ft_line_fit defined')"
     ],
     "language": "python",
     "metadata": {},
     "outputs": [
      {
       "output_type": "stream",
       "stream": "stdout",
       "text": [
        "[stdout:0] angle_ft_line_fit defined\n",
        "[stdout:1] angle_ft_line_fit defined\n"
       ]
      }
     ],
     "prompt_number": 4
    },
    {
     "cell_type": "markdown",
     "metadata": {},
     "source": [
      "Function to map in parallel"
     ]
    },
    {
     "cell_type": "code",
     "collapsed": false,
     "input": [
      "def angle_histogram(arg):\n",
      "     # work around for me not knowing how to dview.map multiple arguments\n",
      "    threshold, filename = arg\n",
      "\n",
      "    from itertools import product\n",
      "    from skimage.filter import threshold_otsu\n",
      "    from skimage.io import imread\n",
      "    \n",
      "    img = imread(filename)\n",
      "    bs = 100 # approx block size\n",
      "    iy, ix = img.shape\n",
      "    by, bx = iy//bs, ix//bs   # blocks\n",
      "    bsy, bsx = iy//by, ix//bx # block size, spread spare pixels\n",
      "\n",
      "    h = np.zeros(180) # histogram\n",
      "    for j,i in product(range(by), range(bx)):\n",
      "        x,y = j*bsx, i*bsy # pos\n",
      "\n",
      "        temp_img = img[y:y+bsy, x:x+bsx]\n",
      "        mean = temp_img.mean()\n",
      "\n",
      "        # small image\n",
      "        if temp_img.shape[0] < 50 or temp_img.shape[1] < 50:\n",
      "            continue\n",
      "        # emtpy image\n",
      "        if mean == 0:\n",
      "            continue\n",
      "        # threshold below noise-threshold\n",
      "        ot = threshold_otsu(temp_img)\n",
      "        if (ot < 1):\n",
      "            continue\n",
      "\n",
      "        angle = angle_ft_line_fit(temp_img, threshold=threshold)\n",
      "        angle = int(angle)\n",
      "        h[angle] += 1\n",
      "\n",
      "    # make plot\n",
      "    fig, axs = plt.subplots(ncols=2, figsize=(16,8))\n",
      "    axs[0].imshow(img)\n",
      "    axs[1].plot(h)\n",
      "\n",
      "    # save it\n",
      "    fn = filename.replace('ed/u', 'ed/angles-ft-line-fit-u')\n",
      "    fn = fn.replace('.png', '{:1.3f}'.format(threshold) + '.png')\n",
      "    fig.savefig(fn)"
     ],
     "language": "python",
     "metadata": {},
     "outputs": [],
     "prompt_number": 5
    },
    {
     "cell_type": "markdown",
     "metadata": {},
     "source": [
      "Create a list with all combinations of image and threshold"
     ]
    },
    {
     "cell_type": "code",
     "collapsed": false,
     "input": [
      "import numpy as np\n",
      "from itertools import product\n",
      "files = !ls /notebooks/TFY4500/unstained/u*.png\n",
      "thresholds = np.linspace(0.9, 1, num=11, endpoint=False)\n",
      "combinations = list(product(thresholds, files))\n",
      "combinations[0]"
     ],
     "language": "python",
     "metadata": {},
     "outputs": [
      {
       "metadata": {},
       "output_type": "pyout",
       "prompt_number": 6,
       "text": [
        "(0.90000000000000002, '/notebooks/TFY4500/unstained/u0v0ch1z0.png')"
       ]
      }
     ],
     "prompt_number": 6
    },
    {
     "cell_type": "markdown",
     "metadata": {},
     "source": [
      "Do them in parallel"
     ]
    },
    {
     "cell_type": "code",
     "collapsed": false,
     "input": [
      "dview = rc.direct_view()\n",
      "res = dview.map(angle_histogram, combinations)"
     ],
     "language": "python",
     "metadata": {},
     "outputs": [],
     "prompt_number": 7
    },
    {
     "cell_type": "markdown",
     "metadata": {},
     "source": [
      "Wait for it to complete"
     ]
    },
    {
     "cell_type": "code",
     "collapsed": false,
     "input": [
      "from __future__ import print_function\n",
      "from time import sleep\n",
      "while res.ready() == False:\n",
      "    sleep(10)\n",
      "    print('.', end='')"
     ],
     "language": "python",
     "metadata": {},
     "outputs": [
      {
       "output_type": "stream",
       "stream": "stdout",
       "text": [
        ".."
       ]
      },
      {
       "output_type": "stream",
       "stream": "stdout",
       "text": [
        "."
       ]
      },
      {
       "output_type": "stream",
       "stream": "stdout",
       "text": [
        "."
       ]
      },
      {
       "output_type": "stream",
       "stream": "stdout",
       "text": [
        "."
       ]
      },
      {
       "output_type": "stream",
       "stream": "stdout",
       "text": [
        "."
       ]
      },
      {
       "output_type": "stream",
       "stream": "stdout",
       "text": [
        "."
       ]
      },
      {
       "output_type": "stream",
       "stream": "stdout",
       "text": [
        "."
       ]
      },
      {
       "output_type": "stream",
       "stream": "stdout",
       "text": [
        "."
       ]
      },
      {
       "output_type": "stream",
       "stream": "stdout",
       "text": [
        "."
       ]
      },
      {
       "output_type": "stream",
       "stream": "stdout",
       "text": [
        "."
       ]
      },
      {
       "output_type": "stream",
       "stream": "stdout",
       "text": [
        "."
       ]
      },
      {
       "output_type": "stream",
       "stream": "stdout",
       "text": [
        "."
       ]
      },
      {
       "output_type": "stream",
       "stream": "stdout",
       "text": [
        "."
       ]
      },
      {
       "output_type": "stream",
       "stream": "stdout",
       "text": [
        "."
       ]
      },
      {
       "output_type": "stream",
       "stream": "stdout",
       "text": [
        "."
       ]
      },
      {
       "output_type": "stream",
       "stream": "stdout",
       "text": [
        "."
       ]
      },
      {
       "output_type": "stream",
       "stream": "stdout",
       "text": [
        "."
       ]
      },
      {
       "output_type": "stream",
       "stream": "stdout",
       "text": [
        "."
       ]
      }
     ]
    },
    {
     "cell_type": "code",
     "collapsed": false,
     "input": [
      "# to stop it, interupt the above and run\n",
      "# res.abort()"
     ],
     "language": "python",
     "metadata": {},
     "outputs": []
    },
    {
     "cell_type": "markdown",
     "metadata": {},
     "source": [
      "Show results"
     ]
    },
    {
     "cell_type": "code",
     "collapsed": false,
     "input": [
      "res[:]"
     ],
     "language": "python",
     "metadata": {},
     "outputs": []
    }
   ],
   "metadata": {}
  }
 ]
}