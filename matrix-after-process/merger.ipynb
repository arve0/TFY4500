{
 "metadata": {
  "name": "",
  "signature": "sha256:ea8298ee919a919e9374271e5ce03485c30dd7bd756b093fd956bfadd6835fb3"
 },
 "nbformat": 3,
 "nbformat_minor": 0,
 "worksheets": [
  {
   "cells": [
    {
     "cell_type": "code",
     "collapsed": false,
     "input": [
      "from glob import glob\n",
      "from leicaexperiment import LeicaExperiment\n",
      "from tifffile import imsave, imshow\n",
      "\n",
      "experiments = glob('/Users/arve/Dokumenter/TFY4500/comparison/experiment--*')\n",
      "\n",
      "leica_experiments = []\n",
      "for e in experiments:\n",
      "    leica_experiments.append(LeicaExperiment(e))\n",
      "\n",
      "\n",
      "for experiment in leica_experiments:\n",
      "    well = experiment.wells[0] # assume only one well\n",
      "    for channel in range(well.channels):\n",
      "        for z in range(well.z_stacks):\n",
      "            print('Merging experiment {} channel {} z-stack {}'.format(experiment.str_time, channel, z))\n",
      "            img = well.merge(z, channel)\n",
      "            #filename = (experiment.path.replace('experiment--2014_11_', 'merged/') +\n",
      "                        #'ch' + str(channel) + 'z' + str(z) + '.tif')\n",
      "            #imsave(filename, img)\n",
      "\n",
      "            # invert\n",
      "            img = 255-img\n",
      "            filename = (experiment.path.replace('experiment--2014_11_', 'inverted/') +\n",
      "                        'ch' + str(channel) + 'z' + str(z) + '.compressed.tif')\n",
      "            imsave(filename, img, compress=1)"
     ],
     "language": "python",
     "metadata": {},
     "outputs": []
    }
   ],
   "metadata": {}
  }
 ]
}