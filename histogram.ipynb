{
 "metadata": {
  "name": "",
  "signature": "sha256:6b8a999745595c05b9d62548784db439625bdca9a4cc962487bed2dfaf0c289a"
 },
 "nbformat": 3,
 "nbformat_minor": 0,
 "worksheets": [
  {
   "cells": [
    {
     "cell_type": "code",
     "collapsed": false,
     "input": [
      "%load http://matplotlib.org/mpl_examples/statistics/histogram_demo_features.py\n",
      "%matplotlib inline"
     ],
     "language": "python",
     "metadata": {},
     "outputs": [],
     "prompt_number": 3
    },
    {
     "cell_type": "code",
     "collapsed": false,
     "input": [
      "\"\"\"\n",
      "Demo of the histogram (hist) function with a few features.\n",
      "\n",
      "In addition to the basic histogram, this demo shows a few optional features:\n",
      "\n",
      "    * Setting the number of data bins\n",
      "    * The ``normed`` flag, which normalizes bin heights so that the integral of\n",
      "      the histogram is 1. The resulting histogram is a probability density.\n",
      "    * Setting the face color of the bars\n",
      "    * Setting the opacity (alpha value).\n",
      "\n",
      "\"\"\"\n",
      "import numpy as np\n",
      "import matplotlib.mlab as mlab\n",
      "import matplotlib.pyplot as plt\n",
      "\n",
      "\n",
      "# example data\n",
      "mu = 100 # mean of distribution\n",
      "sigma = 15 # standard deviation of distribution\n",
      "x = mu + sigma * np.random.randn(10000)\n",
      "\n",
      "num_bins = 50\n",
      "# the histogram of the data\n",
      "n, bins, patches = plt.hist(x, num_bins, normed=1, facecolor='green', alpha=0.5)\n",
      "# add a 'best fit' line\n",
      "y = mlab.normpdf(bins, mu, sigma)\n",
      "#plt.plot(bins, y, 'r--')\n",
      "plt.xlabel('Smarts')\n",
      "plt.ylabel('Probability')\n",
      "plt.title(r'Histogram of IQ: $\\mu=100$, $\\sigma=15$')\n",
      "\n",
      "# Tweak spacing to prevent clipping of ylabel\n",
      "plt.subplots_adjust(left=0.15)\n",
      "plt.show()\n"
     ],
     "language": "python",
     "metadata": {},
     "outputs": [
      {
       "metadata": {},
       "output_type": "display_data",
       "png": "[encoded data removed]",
       "text": [
        "<matplotlib.figure.Figure at 0x10ca28eb8>"
       ]
      }
     ],
     "prompt_number": 5
    },
    {
     "cell_type": "markdown",
     "metadata": {},
     "source": [
      "Also see `skimage.exposure.histogram` + `plt.bar`"
     ]
    },
    {
     "cell_type": "code",
     "collapsed": false,
     "input": [
      "from skimage.exposure import histogram\n",
      "import matplotlib.pyplot as plt\n",
      "\n",
      "h = histogram(img)\n",
      "plt.bar(h)"
     ],
     "language": "python",
     "metadata": {},
     "outputs": []
    }
   ],
   "metadata": {}
  }
 ]
}