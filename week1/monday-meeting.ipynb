{
 "metadata": {
  "name": "",
  "signature": "sha256:c463cbdddf6fe88172d0fd21497d87bb8d3daa8a2504d24932629ea39f2fee01"
 },
 "nbformat": 3,
 "nbformat_minor": 0,
 "worksheets": [
  {
   "cells": [
    {
     "cell_type": "markdown",
     "metadata": {},
     "source": [
      "Condensor? Use 0.9 to get laser spreaded more."
     ]
    },
    {
     "cell_type": "markdown",
     "metadata": {},
     "source": [
      "HyD, most sensitive. Turns of if it detects several photons at once. Find most intesity in image, scale by this."
     ]
    },
    {
     "cell_type": "heading",
     "level": 1,
     "metadata": {},
     "source": [
      "Imaging aspects of the tumor strom with therapeutic implications"
     ]
    },
    {
     "cell_type": "markdown",
     "metadata": {},
     "source": [
      "* stroma - ingen prim\u00e6rfunksjon, feks bindevev\n",
      "* tradisjonell kreftforskning - fokus p\u00e5 celler\n",
      "* fibroplaster - p\u00e5virket - epogenetic\n",
      "* spredning via fiber?\n",
      "* forhindre tiltrekning av fibroplaster?\n",
      "* angiogenesis - danner nye blod\u00e5rer"
     ]
    }
   ],
   "metadata": {}
  }
 ]
}